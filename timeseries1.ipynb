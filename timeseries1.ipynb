{
 "cells": [
  {
   "cell_type": "markdown",
   "id": "4aa84d0b-23c1-46eb-a06f-a2ce107fcbf4",
   "metadata": {},
   "source": [
    "Q1. What is a time series, and what are some common applications of time series analysis?"
   ]
  },
  {
   "cell_type": "code",
   "execution_count": null,
   "id": "d6b6d0a4-0a5d-41e1-bb72-71c6a0f96458",
   "metadata": {},
   "outputs": [],
   "source": [
    "Ans:-A time series is a sequence of data points collected or recorded over a period of time.\n",
    "      Applications of time series analysis:-\n",
    "        i.finance & economics\n",
    "          ii.weather forcasting\n",
    "            iii.social media analysis"
   ]
  },
  {
   "cell_type": "markdown",
   "id": "0c1950f9-5b98-4f8e-b79e-0db7366312b6",
   "metadata": {},
   "source": [
    "Q2. What are some common time series patterns, and how can they be identified and interpreted?"
   ]
  },
  {
   "cell_type": "code",
   "execution_count": null,
   "id": "cca1a621-9b34-4b91-95fa-f2ec716d6c71",
   "metadata": {},
   "outputs": [],
   "source": [
    "Ans:-The common time series patterns\n",
    "      i.Trend\n",
    "       ii.seasonality\n",
    "        iii.cyclical\n",
    "          iv.outlier"
   ]
  },
  {
   "cell_type": "markdown",
   "id": "d1c74048-00a4-4a54-8b2a-87961de3c273",
   "metadata": {},
   "source": [
    "Q3. How can time series data be preprocessed before applying analysis techniques?"
   ]
  },
  {
   "cell_type": "code",
   "execution_count": null,
   "id": "fb09031d-9569-4cae-a8c9-901a4ef74cbc",
   "metadata": {},
   "outputs": [],
   "source": [
    "Ans:-The common preprocessing steps for time series data:\n",
    "       i.handling outliers\n",
    "        ii.handling missing values\n",
    "          iii.resampling\n",
    "            iv.normalization\n",
    "              v.feature engineering"
   ]
  },
  {
   "cell_type": "markdown",
   "id": "a3fa6739-7395-4034-8a7b-7193f8e7a77f",
   "metadata": {},
   "source": [
    "Q4. How can time series forecasting be used in business decision-making, and what are some common\n",
    "challenges and limitations?"
   ]
  },
  {
   "cell_type": "code",
   "execution_count": null,
   "id": "52b20610-4ffa-4083-a51c-805ed20d6937",
   "metadata": {},
   "outputs": [],
   "source": [
    "Ans:-The time series forecasting be used in business decision-making\n",
    "      i.demand forcasting\n",
    "       ii.financial forcasting\n",
    "        iii.sales forcasting\n",
    "        \n",
    "        Some challenges and limitations:\n",
    "            i.Data Quality\n",
    "              ii.complexity\n",
    "                iii.forcast horizon\n",
    "                  iv.external factor"
   ]
  },
  {
   "cell_type": "markdown",
   "id": "fae1c15b-e251-4284-a7fc-134dc205d055",
   "metadata": {},
   "source": [
    "Q5. What is ARIMA modelling, and how can it be used to forecast time series data?"
   ]
  },
  {
   "cell_type": "code",
   "execution_count": null,
   "id": "ffc4b086-7de7-4e3b-84f7-0e22ce0b721b",
   "metadata": {},
   "outputs": [],
   "source": [
    "Ans:-ARIMA (Autoregressive Integrated Moving Average) modeling is a popular \n",
    "        and widely used technique for time series forecasting.\n",
    "    \n",
    "    The process of using ARIMA for time series forecasting :-\n",
    "      i.data preprocessing\n",
    "        ii.model identification\n",
    "          iii.model estimation\n",
    "            iv.model evaluation\n",
    "            \n",
    "            ARIMA models are commonly used in various fields, including finance, economics."
   ]
  },
  {
   "cell_type": "markdown",
   "id": "12eba46c-9c62-4920-9963-914f500dd33e",
   "metadata": {},
   "source": [
    "Q6. How do Autocorrelation Function (ACF) and Partial Autocorrelation Function (PACF) plots help in\n",
    "identifying the order of ARIMA models?"
   ]
  },
  {
   "cell_type": "code",
   "execution_count": null,
   "id": "f419baf1-1bf7-4de0-a826-ddc26bb42ea6",
   "metadata": {},
   "outputs": [],
   "source": [
    "Ans:-Autocorrelation Function (ACF) Plot:\n",
    "      i.In an ACF plot, the y-axis represents the correlation coefficient, while the x-axis represents the lag.\n",
    "        ii.In an ARIMA model, the ACF plot is used to determine the order of the Moving Average (MA) component (q).\n",
    "        \n",
    "        Partial Autocorrelation Function (PACF):-\n",
    "          i.PACF measures the correlation between an observation and its lagged values\n",
    "              while removing the contributions of intermediate lags.\n",
    "            ii.In a PACF plot, the y-axis represents the correlation coefficient, while the x-axis represents the lag."
   ]
  },
  {
   "cell_type": "markdown",
   "id": "cda0def5-e3b9-4d54-a525-85dd44347db2",
   "metadata": {},
   "source": [
    "Q7. What are the assumptions of ARIMA models, and how can they be tested for in practice?"
   ]
  },
  {
   "cell_type": "code",
   "execution_count": null,
   "id": "a47d4dbf-d9a1-4b5e-8f4a-fb28bb49854c",
   "metadata": {},
   "outputs": [],
   "source": [
    "Ans:-The assumptions of ARIMA models\n",
    "       i.stationarity\n",
    "        ii.linearity\n",
    "          ii.independence\n",
    "            \n",
    "        Testing these assumptions helps ensure that the ARIMA model is appropriate for the given time series data."
   ]
  },
  {
   "cell_type": "markdown",
   "id": "83b92e40-a437-47ea-a7b5-b302876c9977",
   "metadata": {},
   "source": [
    "Q8. Suppose you have monthly sales data for a retail store for the past three years. Which type of time\n",
    "series model would you recommend for forecasting future sales, and why?"
   ]
  },
  {
   "cell_type": "code",
   "execution_count": null,
   "id": "9049fdb5-480e-485f-82db-53e7d21ad7f2",
   "metadata": {},
   "outputs": [],
   "source": [
    "Ans:-SARIMA models are an extension of ARIMA models that can capture both the trend and seasonality present in the data. \n",
    "       SARIMA models provide a flexible and powerful framework for forecasting future sales."
   ]
  },
  {
   "cell_type": "markdown",
   "id": "06becf00-0b08-4e7e-96cb-6822c1abbde4",
   "metadata": {},
   "source": [
    "Q9. What are some of the limitations of time series analysis? Provide an example of a scenario where the\n",
    "limitations of time series analysis may be particularly relevant."
   ]
  },
  {
   "cell_type": "code",
   "execution_count": null,
   "id": "36bb3cb6-7f2c-4f9c-9363-dbd01f6152cc",
   "metadata": {},
   "outputs": [],
   "source": [
    "Ans:-Limitations of time series analysis:-\n",
    "      i.non-linearity\n",
    "        ii.sensitivity to missing values & outliers\n",
    "        \n",
    "        \n",
    "         It is essential to consider these limitations and \n",
    "               evaluate the suitability of time series analysis techniques in specific scenarios."
   ]
  },
  {
   "cell_type": "markdown",
   "id": "9d360a0c-e6e0-415c-b67d-4e55994ba8bf",
   "metadata": {},
   "source": [
    "Q10. Explain the difference between a stationary and non-stationary time series. How does the stationarity\n",
    "of a time series affect the choice of forecasting model?"
   ]
  },
  {
   "cell_type": "code",
   "execution_count": null,
   "id": "29d40a57-e6fb-43f1-865a-7a2919a37650",
   "metadata": {},
   "outputs": [],
   "source": [
    "Ans:-Stationary Time Series: \n",
    "       If the time series is stationary, it simplifies the modeling process and \n",
    "          allows us to apply traditional forecasting methods like ARIMA (AutoRegressive Integrated Moving Average). \n",
    "            \n",
    "        Non-Stationary Time Series: \n",
    "             Non-stationary time series require additional preprocessing steps to make\n",
    "                  them stationary before applying traditional forecasting models."
   ]
  }
 ],
 "metadata": {
  "kernelspec": {
   "display_name": "Python 3 (ipykernel)",
   "language": "python",
   "name": "python3"
  },
  "language_info": {
   "codemirror_mode": {
    "name": "ipython",
    "version": 3
   },
   "file_extension": ".py",
   "mimetype": "text/x-python",
   "name": "python",
   "nbconvert_exporter": "python",
   "pygments_lexer": "ipython3",
   "version": "3.10.8"
  }
 },
 "nbformat": 4,
 "nbformat_minor": 5
}
